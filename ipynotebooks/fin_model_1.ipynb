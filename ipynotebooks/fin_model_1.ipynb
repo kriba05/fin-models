{
 "cells": [
  {
   "cell_type": "markdown",
   "id": "43feabbd-7ebc-4709-b04c-fbb7ac7d637d",
   "metadata": {},
   "source": [
    "# My Imports"
   ]
  },
  {
   "cell_type": "code",
   "execution_count": 75,
   "id": "1bed0a13-0021-48c7-a0cd-3a37178a291c",
   "metadata": {},
   "outputs": [],
   "source": [
    "import yfinance as yf\n",
    "import datetime\n",
    "import pandas as pd"
   ]
  },
  {
   "cell_type": "markdown",
   "id": "8b89b407-f623-42d0-8fa0-d55d7e6be91a",
   "metadata": {},
   "source": [
    "# Function get_stock_data\n",
    "## This function will get stock data for given ticker and data + or - 7 days from given date\n",
    "## The hist dataframe contains data in 30 min intervals for each day\n",
    "## The daily_hist has data for each day's open, low, high and close"
   ]
  },
  {
   "cell_type": "code",
   "execution_count": 79,
   "id": "28e7ffbd-139e-4ff5-a909-5caea8ca8f48",
   "metadata": {},
   "outputs": [],
   "source": [
    "def get_stock_data(ticker, date):\n",
    "    stock = yf.Ticker(ticker)\n",
    "    start_date = (date - datetime.timedelta(days=7)).strftime('%Y-%m-%d')\n",
    "    end_date = (date + datetime.timedelta(days=7)).strftime('%Y-%m-%d')\n",
    "    \n",
    "    hist = stock.history(start=start_date, end=end_date, interval='30m')\n",
    "    daily_hist = stock.history(start=start_date, end=end_date)\n",
    "    \n",
    "    return hist, daily_hist"
   ]
  },
  {
   "cell_type": "markdown",
   "id": "735bfea1-b2ea-49f3-b04d-9489854b0d7c",
   "metadata": {},
   "source": [
    "# Function get_close_price\n",
    "## Gets the close price of a stock for a given date from daily_hist data frame"
   ]
  },
  {
   "cell_type": "code",
   "execution_count": 44,
   "id": "00899b21-1cfa-47c9-bdfe-7b7f2b2d06e3",
   "metadata": {},
   "outputs": [],
   "source": [
    "def get_close_price(daily_hist, date):\n",
    "    return daily_hist.loc[date.strftime('%Y-%m-%d')]['Close']"
   ]
  },
  {
   "cell_type": "markdown",
   "id": "28ce2768-89b4-4f19-b58a-b4b7a8926e4e",
   "metadata": {},
   "source": [
    "# Function get_prior_day\n",
    "## Gets the prior business day when financial markets was open\n",
    "## Gets it through available indexes in daily_hist dataframe"
   ]
  },
  {
   "cell_type": "code",
   "execution_count": 45,
   "id": "a90b0dfd-0fd2-4b5e-ae74-7881b788fdc3",
   "metadata": {},
   "outputs": [],
   "source": [
    "def get_prior_day(daily_hist, date):\n",
    "    prior_day = date - datetime.timedelta(days=1)\n",
    "    while prior_day.strftime('%Y-%m-%d') not in daily_hist.index.strftime('%Y-%m-%d'):\n",
    "        prior_day -= datetime.timedelta(days = 1)\n",
    "        if prior_day < date - datetime.timedelta(days=7):  # Avoid infinite loop\n",
    "            return None        \n",
    "    return prior_day"
   ]
  },
  {
   "cell_type": "markdown",
   "id": "d1ed99c5-580b-4727-b35d-ffdc17eaeb65",
   "metadata": {},
   "source": [
    "# Function get_next_day\n",
    "## Gets the prior business day when financial markets was open\n",
    "## Gets it through available indexes in daily_hist dataframe"
   ]
  },
  {
   "cell_type": "code",
   "execution_count": 46,
   "id": "9dcd78dd-fc72-4b01-bbf8-335936e60ba7",
   "metadata": {},
   "outputs": [],
   "source": [
    "def get_next_day(daily_hist, date):\n",
    "    next_day = date + datetime.timedelta(days=1)\n",
    "    while next_day.strftime('%Y-%m-%d') not in daily_hist.index.strftime('%Y-%m-%d'):\n",
    "        next_day += datetime.timedelta(days=1)\n",
    "        if next_day > date + datetime.timedelta(days=7):  # Avoid infinite loop\n",
    "            return None         \n",
    "    return next_day"
   ]
  },
  {
   "cell_type": "markdown",
   "id": "1a191f39-add5-4b23-9f59-bada7474944c",
   "metadata": {},
   "source": [
    "# Function get_stock_details\n",
    "## For a given ticker and date, gets all price action, pct increase from prior day, pct increase from today to next day close, strong support indicator, etc.."
   ]
  },
  {
   "cell_type": "code",
   "execution_count": 66,
   "id": "f7de239f-07ac-4571-afad-873e23451425",
   "metadata": {},
   "outputs": [],
   "source": [
    "def get_stock_details(ticker, date):\n",
    "    hist, daily_hist = get_stock_data(ticker, date)\n",
    "\n",
    "    if date.strftime('%Y-%m-%d') not in daily_hist.index.strftime('%Y-%m-%d'):\n",
    "        return None\n",
    "\n",
    "    prior_day = get_prior_day(daily_hist,date)\n",
    "    prior_day_close = get_close_price(daily_hist, prior_day)\n",
    "    \n",
    "\n",
    "    #Note that time represents start time + delta duration. \n",
    "    #For example. if time is 9:30 and delta duration is 60 mins, 9:30 represents data between 9:30 and 10;30\n",
    "    open_time = f'{date.strftime(\"%Y-%m-%d\")} 09:30:00'\n",
    "    ten_30_time = f'{date.strftime(\"%Y-%m-%d\")} 10:00:00'\n",
    "    one_pm_time = f'{date.strftime(\"%Y-%m-%d\")} 12:30:00'\n",
    "    close_time = f'{date.strftime(\"%Y-%m-%d\")} 15:30:00'\n",
    "    \n",
    "    if open_time not in hist.index or ten_30_time not in hist.index or one_pm_time not in hist.index or close_time not in hist.index:\n",
    "        return None\n",
    "\n",
    "    open_price = hist.loc[open_time]['Open']\n",
    "    low_first_hour = hist.loc[open_time:ten_30_time]['Low'].min()\n",
    "    high_first_hour = hist.loc[open_time:ten_30_time]['High'].max()\n",
    "    close_first_hour = hist.loc[ten_30_time]['Close']   \n",
    "    low_till_1pm = hist.loc[open_time:one_pm_time]['Low'].min()\n",
    "    high_till_1pm = hist.loc[open_time:one_pm_time]['High'].max()\n",
    "    close_1pm = hist.loc[one_pm_time]['Close']\n",
    "    close_price = hist.loc[close_time]['Close']\n",
    "    \n",
    "    price_movement_since_1pm = close_price - hist.loc[one_pm_time]['Close']\n",
    "\n",
    "    pct_increase_from_prior_close_to_open = ((open_price - prior_day_close)/prior_day_close)*100\n",
    "    pct_increase_1pm_to_close = ((close_price - high_till_1pm)/high_till_1pm)*100\n",
    "\n",
    "    if low_till_1pm >= low_first_hour:\n",
    "        strong_support = 'Y'\n",
    "    else:\n",
    "        strong_support = 'N'\n",
    "\n",
    "    next_day = get_next_day(daily_hist,date)   \n",
    "    if next_day is not None:\n",
    "        next_day_low = daily_hist.loc[next_day.strftime('%Y-%m-%d')]['Low'] \n",
    "        next_day_high = daily_hist.loc[next_day.strftime('%Y-%m-%d')]['High'] \n",
    "        next_day_close = daily_hist.loc[next_day.strftime('%Y-%m-%d')]['Close']\n",
    "\n",
    "        pct_increase_next_day_close_to_prior_close = ((next_day_close - close_price)/close_price)*100\n",
    "    else:\n",
    "        next_day_low = -1 \n",
    "        next_day_high = -1 \n",
    "        next_day_close = -1\n",
    "        \n",
    "        pct_increase_next_day_close_to_prior_close = -1\n",
    "    \n",
    "    return {\n",
    "        'Date': date.strftime('%Y-%m-%d'),\n",
    "        'Ticker': ticker,\n",
    "        'Prior Close': prior_day_close,\n",
    "        'Open Price': open_price,\n",
    "        'Low First Hour': low_first_hour,\n",
    "        'High First Hour': high_first_hour,\n",
    "        'Close First Hour': close_first_hour,\n",
    "        'Low Till 1 PM': low_till_1pm,\n",
    "        'High Till 1 PM': close_1pm,\n",
    "        'Close 1 PM': low_till_1pm,\n",
    "        'Close Price': close_price,\n",
    "        'Price Movement (1PM - 4PM)': price_movement_since_1pm,\n",
    "        'Next Day': next_day,\n",
    "        'Next Day Low': next_day_low,\n",
    "        'Next Day High': next_day_high,\n",
    "        'Next Day Close': next_day_close,\n",
    "        'Pct Increase Prior Close to Open':pct_increase_from_prior_close_to_open,\n",
    "        'Strong Support': strong_support,\n",
    "        'Pct Increase 1 PM to Close': pct_increase_1pm_to_close,\n",
    "        'Pct Increase Close to Next Day Close': pct_increase_next_day_close_to_prior_close,\n",
    "    }"
   ]
  },
  {
   "cell_type": "markdown",
   "id": "0c366752-352c-41de-963b-6ade130d4821",
   "metadata": {},
   "source": [
    "# Function fetch_price_action_details\n",
    "## For given list of tickers and number of days, collects all price action details and stores in dataframe"
   ]
  },
  {
   "cell_type": "code",
   "execution_count": 61,
   "id": "1ba7240c-9f5d-4ad6-a438-24febea85007",
   "metadata": {},
   "outputs": [],
   "source": [
    "def fetch_price_action_details(tickers, start_date, days=100):\n",
    "    results = []\n",
    "    for i in range(days):\n",
    "        date = start_date - datetime.timedelta(days=i)\n",
    "        for ticker in tickers:\n",
    "            data = get_stock_details(ticker, date)\n",
    "            if data:\n",
    "                results.append(data)\n",
    "    \n",
    "    return pd.DataFrame(results)"
   ]
  },
  {
   "cell_type": "markdown",
   "id": "34e4cd1c-a356-4221-9f9e-fafeda1f9e8d",
   "metadata": {},
   "source": [
    "# Example Usage"
   ]
  },
  {
   "cell_type": "code",
   "execution_count": 112,
   "id": "6f9a9aaa-5faf-4875-ae88-1d6e59ae8c8a",
   "metadata": {},
   "outputs": [
    {
     "ename": "YFRateLimitError",
     "evalue": "Too Many Requests. Rate limited. Try after a while.",
     "output_type": "error",
     "traceback": [
      "\u001b[31m---------------------------------------------------------------------------\u001b[39m",
      "\u001b[31mYFRateLimitError\u001b[39m                          Traceback (most recent call last)",
      "\u001b[36mCell\u001b[39m\u001b[36m \u001b[39m\u001b[32mIn[112]\u001b[39m\u001b[32m, line 3\u001b[39m\n\u001b[32m      1\u001b[39m tickers = [\u001b[33m'\u001b[39m\u001b[33mOKTA\u001b[39m\u001b[33m'\u001b[39m,\u001b[33m'\u001b[39m\u001b[33mINTC\u001b[39m\u001b[33m'\u001b[39m,\u001b[33m'\u001b[39m\u001b[33mRGTI\u001b[39m\u001b[33m'\u001b[39m,\u001b[33m'\u001b[39m\u001b[33mPLTR\u001b[39m\u001b[33m'\u001b[39m,\u001b[33m'\u001b[39m\u001b[33mHIMS\u001b[39m\u001b[33m'\u001b[39m,\u001b[33m'\u001b[39m\u001b[33mINOD\u001b[39m\u001b[33m'\u001b[39m]\n\u001b[32m      2\u001b[39m start_date = datetime.date(\u001b[32m2025\u001b[39m, \u001b[32m3\u001b[39m, \u001b[32m7\u001b[39m)  \u001b[38;5;66;03m# Set this to your desired end date\u001b[39;00m\n\u001b[32m----> \u001b[39m\u001b[32m3\u001b[39m my_stocks_data = \u001b[43mfetch_price_action_details\u001b[49m\u001b[43m(\u001b[49m\u001b[43mtickers\u001b[49m\u001b[43m,\u001b[49m\u001b[43m \u001b[49m\u001b[43mstart_date\u001b[49m\u001b[43m,\u001b[49m\u001b[43m \u001b[49m\u001b[43mdays\u001b[49m\u001b[43m=\u001b[49m\u001b[32;43m45\u001b[39;49m\u001b[43m)\u001b[49m\n\u001b[32m      4\u001b[39m my_stocks_data\n",
      "\u001b[36mCell\u001b[39m\u001b[36m \u001b[39m\u001b[32mIn[61]\u001b[39m\u001b[32m, line 6\u001b[39m, in \u001b[36mfetch_price_action_details\u001b[39m\u001b[34m(tickers, start_date, days)\u001b[39m\n\u001b[32m      4\u001b[39m date = start_date - datetime.timedelta(days=i)\n\u001b[32m      5\u001b[39m \u001b[38;5;28;01mfor\u001b[39;00m ticker \u001b[38;5;129;01min\u001b[39;00m tickers:\n\u001b[32m----> \u001b[39m\u001b[32m6\u001b[39m     data = \u001b[43mget_stock_details\u001b[49m\u001b[43m(\u001b[49m\u001b[43mticker\u001b[49m\u001b[43m,\u001b[49m\u001b[43m \u001b[49m\u001b[43mdate\u001b[49m\u001b[43m)\u001b[49m\n\u001b[32m      7\u001b[39m     \u001b[38;5;28;01mif\u001b[39;00m data:\n\u001b[32m      8\u001b[39m         results.append(data)\n",
      "\u001b[36mCell\u001b[39m\u001b[36m \u001b[39m\u001b[32mIn[66]\u001b[39m\u001b[32m, line 2\u001b[39m, in \u001b[36mget_stock_details\u001b[39m\u001b[34m(ticker, date)\u001b[39m\n\u001b[32m      1\u001b[39m \u001b[38;5;28;01mdef\u001b[39;00m\u001b[38;5;250m \u001b[39m\u001b[34mget_stock_details\u001b[39m(ticker, date):\n\u001b[32m----> \u001b[39m\u001b[32m2\u001b[39m     hist, daily_hist = \u001b[43mget_stock_data\u001b[49m\u001b[43m(\u001b[49m\u001b[43mticker\u001b[49m\u001b[43m,\u001b[49m\u001b[43m \u001b[49m\u001b[43mdate\u001b[49m\u001b[43m)\u001b[49m\n\u001b[32m      4\u001b[39m     \u001b[38;5;28;01mif\u001b[39;00m date.strftime(\u001b[33m'\u001b[39m\u001b[33m%\u001b[39m\u001b[33mY-\u001b[39m\u001b[33m%\u001b[39m\u001b[33mm-\u001b[39m\u001b[38;5;132;01m%d\u001b[39;00m\u001b[33m'\u001b[39m) \u001b[38;5;129;01mnot\u001b[39;00m \u001b[38;5;129;01min\u001b[39;00m daily_hist.index.strftime(\u001b[33m'\u001b[39m\u001b[33m%\u001b[39m\u001b[33mY-\u001b[39m\u001b[33m%\u001b[39m\u001b[33mm-\u001b[39m\u001b[38;5;132;01m%d\u001b[39;00m\u001b[33m'\u001b[39m):\n\u001b[32m      5\u001b[39m         \u001b[38;5;28;01mreturn\u001b[39;00m \u001b[38;5;28;01mNone\u001b[39;00m\n",
      "\u001b[36mCell\u001b[39m\u001b[36m \u001b[39m\u001b[32mIn[79]\u001b[39m\u001b[32m, line 6\u001b[39m, in \u001b[36mget_stock_data\u001b[39m\u001b[34m(ticker, date)\u001b[39m\n\u001b[32m      3\u001b[39m start_date = (date - datetime.timedelta(days=\u001b[32m7\u001b[39m)).strftime(\u001b[33m'\u001b[39m\u001b[33m%\u001b[39m\u001b[33mY-\u001b[39m\u001b[33m%\u001b[39m\u001b[33mm-\u001b[39m\u001b[38;5;132;01m%d\u001b[39;00m\u001b[33m'\u001b[39m)\n\u001b[32m      4\u001b[39m end_date = (date + datetime.timedelta(days=\u001b[32m7\u001b[39m)).strftime(\u001b[33m'\u001b[39m\u001b[33m%\u001b[39m\u001b[33mY-\u001b[39m\u001b[33m%\u001b[39m\u001b[33mm-\u001b[39m\u001b[38;5;132;01m%d\u001b[39;00m\u001b[33m'\u001b[39m)\n\u001b[32m----> \u001b[39m\u001b[32m6\u001b[39m hist = \u001b[43mstock\u001b[49m\u001b[43m.\u001b[49m\u001b[43mhistory\u001b[49m\u001b[43m(\u001b[49m\u001b[43mstart\u001b[49m\u001b[43m=\u001b[49m\u001b[43mstart_date\u001b[49m\u001b[43m,\u001b[49m\u001b[43m \u001b[49m\u001b[43mend\u001b[49m\u001b[43m=\u001b[49m\u001b[43mend_date\u001b[49m\u001b[43m,\u001b[49m\u001b[43m \u001b[49m\u001b[43minterval\u001b[49m\u001b[43m=\u001b[49m\u001b[33;43m'\u001b[39;49m\u001b[33;43m30m\u001b[39;49m\u001b[33;43m'\u001b[39;49m\u001b[43m)\u001b[49m\n\u001b[32m      7\u001b[39m daily_hist = stock.history(start=start_date, end=end_date)\n\u001b[32m      9\u001b[39m \u001b[38;5;28;01mreturn\u001b[39;00m hist, daily_hist\n",
      "\u001b[36mFile \u001b[39m\u001b[32m~\\AppData\\Local\\Programs\\Python\\Python313\\Lib\\site-packages\\yfinance\\utils.py:104\u001b[39m, in \u001b[36mlog_indent_decorator.<locals>.wrapper\u001b[39m\u001b[34m(*args, **kwargs)\u001b[39m\n\u001b[32m    101\u001b[39m logger.debug(\u001b[33mf\u001b[39m\u001b[33m'\u001b[39m\u001b[33mEntering \u001b[39m\u001b[38;5;132;01m{\u001b[39;00mfunc.\u001b[34m__name__\u001b[39m\u001b[38;5;132;01m}\u001b[39;00m\u001b[33m()\u001b[39m\u001b[33m'\u001b[39m)\n\u001b[32m    103\u001b[39m \u001b[38;5;28;01mwith\u001b[39;00m IndentationContext():\n\u001b[32m--> \u001b[39m\u001b[32m104\u001b[39m     result = \u001b[43mfunc\u001b[49m\u001b[43m(\u001b[49m\u001b[43m*\u001b[49m\u001b[43margs\u001b[49m\u001b[43m,\u001b[49m\u001b[43m \u001b[49m\u001b[43m*\u001b[49m\u001b[43m*\u001b[49m\u001b[43mkwargs\u001b[49m\u001b[43m)\u001b[49m\n\u001b[32m    106\u001b[39m logger.debug(\u001b[33mf\u001b[39m\u001b[33m'\u001b[39m\u001b[33mExiting \u001b[39m\u001b[38;5;132;01m{\u001b[39;00mfunc.\u001b[34m__name__\u001b[39m\u001b[38;5;132;01m}\u001b[39;00m\u001b[33m()\u001b[39m\u001b[33m'\u001b[39m)\n\u001b[32m    107\u001b[39m \u001b[38;5;28;01mreturn\u001b[39;00m result\n",
      "\u001b[36mFile \u001b[39m\u001b[32m~\\AppData\\Local\\Programs\\Python\\Python313\\Lib\\site-packages\\yfinance\\base.py:80\u001b[39m, in \u001b[36mTickerBase.history\u001b[39m\u001b[34m(self, *args, **kwargs)\u001b[39m\n\u001b[32m     78\u001b[39m \u001b[38;5;129m@utils\u001b[39m.log_indent_decorator\n\u001b[32m     79\u001b[39m \u001b[38;5;28;01mdef\u001b[39;00m\u001b[38;5;250m \u001b[39m\u001b[34mhistory\u001b[39m(\u001b[38;5;28mself\u001b[39m, *args, **kwargs) -> pd.DataFrame:\n\u001b[32m---> \u001b[39m\u001b[32m80\u001b[39m     \u001b[38;5;28;01mreturn\u001b[39;00m \u001b[38;5;28;43mself\u001b[39;49m\u001b[43m.\u001b[49m\u001b[43m_lazy_load_price_history\u001b[49m\u001b[43m(\u001b[49m\u001b[43m)\u001b[49m\u001b[43m.\u001b[49m\u001b[43mhistory\u001b[49m\u001b[43m(\u001b[49m\u001b[43m*\u001b[49m\u001b[43margs\u001b[49m\u001b[43m,\u001b[49m\u001b[43m \u001b[49m\u001b[43m*\u001b[49m\u001b[43m*\u001b[49m\u001b[43mkwargs\u001b[49m\u001b[43m)\u001b[49m\n",
      "\u001b[36mFile \u001b[39m\u001b[32m~\\AppData\\Local\\Programs\\Python\\Python313\\Lib\\site-packages\\yfinance\\utils.py:104\u001b[39m, in \u001b[36mlog_indent_decorator.<locals>.wrapper\u001b[39m\u001b[34m(*args, **kwargs)\u001b[39m\n\u001b[32m    101\u001b[39m logger.debug(\u001b[33mf\u001b[39m\u001b[33m'\u001b[39m\u001b[33mEntering \u001b[39m\u001b[38;5;132;01m{\u001b[39;00mfunc.\u001b[34m__name__\u001b[39m\u001b[38;5;132;01m}\u001b[39;00m\u001b[33m()\u001b[39m\u001b[33m'\u001b[39m)\n\u001b[32m    103\u001b[39m \u001b[38;5;28;01mwith\u001b[39;00m IndentationContext():\n\u001b[32m--> \u001b[39m\u001b[32m104\u001b[39m     result = \u001b[43mfunc\u001b[49m\u001b[43m(\u001b[49m\u001b[43m*\u001b[49m\u001b[43margs\u001b[49m\u001b[43m,\u001b[49m\u001b[43m \u001b[49m\u001b[43m*\u001b[49m\u001b[43m*\u001b[49m\u001b[43mkwargs\u001b[49m\u001b[43m)\u001b[49m\n\u001b[32m    106\u001b[39m logger.debug(\u001b[33mf\u001b[39m\u001b[33m'\u001b[39m\u001b[33mExiting \u001b[39m\u001b[38;5;132;01m{\u001b[39;00mfunc.\u001b[34m__name__\u001b[39m\u001b[38;5;132;01m}\u001b[39;00m\u001b[33m()\u001b[39m\u001b[33m'\u001b[39m)\n\u001b[32m    107\u001b[39m \u001b[38;5;28;01mreturn\u001b[39;00m result\n",
      "\u001b[36mFile \u001b[39m\u001b[32m~\\AppData\\Local\\Programs\\Python\\Python313\\Lib\\site-packages\\yfinance\\scrapers\\history.py:175\u001b[39m, in \u001b[36mPriceHistory.history\u001b[39m\u001b[34m(self, period, interval, start, end, prepost, actions, auto_adjust, back_adjust, repair, keepna, proxy, rounding, timeout, raise_errors)\u001b[39m\n\u001b[32m    173\u001b[39m         get_fn = \u001b[38;5;28mself\u001b[39m._data.cache_get\n\u001b[32m    174\u001b[39m \u001b[38;5;28;01mtry\u001b[39;00m:\n\u001b[32m--> \u001b[39m\u001b[32m175\u001b[39m     data = \u001b[43mget_fn\u001b[49m\u001b[43m(\u001b[49m\n\u001b[32m    176\u001b[39m \u001b[43m        \u001b[49m\u001b[43murl\u001b[49m\u001b[43m=\u001b[49m\u001b[43murl\u001b[49m\u001b[43m,\u001b[49m\n\u001b[32m    177\u001b[39m \u001b[43m        \u001b[49m\u001b[43mparams\u001b[49m\u001b[43m=\u001b[49m\u001b[43mparams\u001b[49m\u001b[43m,\u001b[49m\n\u001b[32m    178\u001b[39m \u001b[43m        \u001b[49m\u001b[43mproxy\u001b[49m\u001b[43m=\u001b[49m\u001b[43mproxy\u001b[49m\u001b[43m,\u001b[49m\n\u001b[32m    179\u001b[39m \u001b[43m        \u001b[49m\u001b[43mtimeout\u001b[49m\u001b[43m=\u001b[49m\u001b[43mtimeout\u001b[49m\n\u001b[32m    180\u001b[39m \u001b[43m    \u001b[49m\u001b[43m)\u001b[49m\n\u001b[32m    181\u001b[39m     \u001b[38;5;28;01mif\u001b[39;00m \u001b[33m\"\u001b[39m\u001b[33mWill be right back\u001b[39m\u001b[33m\"\u001b[39m \u001b[38;5;129;01min\u001b[39;00m data.text \u001b[38;5;129;01mor\u001b[39;00m data \u001b[38;5;129;01mis\u001b[39;00m \u001b[38;5;28;01mNone\u001b[39;00m:\n\u001b[32m    182\u001b[39m         \u001b[38;5;28;01mraise\u001b[39;00m \u001b[38;5;167;01mRuntimeError\u001b[39;00m(\u001b[33m\"\u001b[39m\u001b[33m*** YAHOO! FINANCE IS CURRENTLY DOWN! ***\u001b[39m\u001b[38;5;130;01m\\n\u001b[39;00m\u001b[33m\"\u001b[39m\n\u001b[32m    183\u001b[39m                            \u001b[33m\"\u001b[39m\u001b[33mOur engineers are working quickly to resolve \u001b[39m\u001b[33m\"\u001b[39m\n\u001b[32m    184\u001b[39m                            \u001b[33m\"\u001b[39m\u001b[33mthe issue. Thank you for your patience.\u001b[39m\u001b[33m\"\u001b[39m)\n",
      "\u001b[36mFile \u001b[39m\u001b[32m~\\AppData\\Local\\Programs\\Python\\Python313\\Lib\\site-packages\\yfinance\\utils.py:104\u001b[39m, in \u001b[36mlog_indent_decorator.<locals>.wrapper\u001b[39m\u001b[34m(*args, **kwargs)\u001b[39m\n\u001b[32m    101\u001b[39m logger.debug(\u001b[33mf\u001b[39m\u001b[33m'\u001b[39m\u001b[33mEntering \u001b[39m\u001b[38;5;132;01m{\u001b[39;00mfunc.\u001b[34m__name__\u001b[39m\u001b[38;5;132;01m}\u001b[39;00m\u001b[33m()\u001b[39m\u001b[33m'\u001b[39m)\n\u001b[32m    103\u001b[39m \u001b[38;5;28;01mwith\u001b[39;00m IndentationContext():\n\u001b[32m--> \u001b[39m\u001b[32m104\u001b[39m     result = \u001b[43mfunc\u001b[49m\u001b[43m(\u001b[49m\u001b[43m*\u001b[49m\u001b[43margs\u001b[49m\u001b[43m,\u001b[49m\u001b[43m \u001b[49m\u001b[43m*\u001b[49m\u001b[43m*\u001b[49m\u001b[43mkwargs\u001b[49m\u001b[43m)\u001b[49m\n\u001b[32m    106\u001b[39m logger.debug(\u001b[33mf\u001b[39m\u001b[33m'\u001b[39m\u001b[33mExiting \u001b[39m\u001b[38;5;132;01m{\u001b[39;00mfunc.\u001b[34m__name__\u001b[39m\u001b[38;5;132;01m}\u001b[39;00m\u001b[33m()\u001b[39m\u001b[33m'\u001b[39m)\n\u001b[32m    107\u001b[39m \u001b[38;5;28;01mreturn\u001b[39;00m result\n",
      "\u001b[36mFile \u001b[39m\u001b[32m~\\AppData\\Local\\Programs\\Python\\Python313\\Lib\\site-packages\\yfinance\\data.py:347\u001b[39m, in \u001b[36mYfData.get\u001b[39m\u001b[34m(self, url, user_agent_headers, params, proxy, timeout)\u001b[39m\n\u001b[32m    345\u001b[39m \u001b[38;5;129m@utils\u001b[39m.log_indent_decorator\n\u001b[32m    346\u001b[39m \u001b[38;5;28;01mdef\u001b[39;00m\u001b[38;5;250m \u001b[39m\u001b[34mget\u001b[39m(\u001b[38;5;28mself\u001b[39m, url, user_agent_headers=\u001b[38;5;28;01mNone\u001b[39;00m, params=\u001b[38;5;28;01mNone\u001b[39;00m, proxy=\u001b[38;5;28;01mNone\u001b[39;00m, timeout=\u001b[32m30\u001b[39m):\n\u001b[32m--> \u001b[39m\u001b[32m347\u001b[39m     \u001b[38;5;28;01mreturn\u001b[39;00m \u001b[38;5;28;43mself\u001b[39;49m\u001b[43m.\u001b[49m\u001b[43m_make_request\u001b[49m\u001b[43m(\u001b[49m\u001b[43murl\u001b[49m\u001b[43m,\u001b[49m\u001b[43m \u001b[49m\u001b[43mrequest_method\u001b[49m\u001b[43m \u001b[49m\u001b[43m=\u001b[49m\u001b[43m \u001b[49m\u001b[38;5;28;43mself\u001b[39;49m\u001b[43m.\u001b[49m\u001b[43m_session\u001b[49m\u001b[43m.\u001b[49m\u001b[43mget\u001b[49m\u001b[43m,\u001b[49m\u001b[43m \u001b[49m\u001b[43muser_agent_headers\u001b[49m\u001b[43m=\u001b[49m\u001b[43muser_agent_headers\u001b[49m\u001b[43m,\u001b[49m\u001b[43m \u001b[49m\u001b[43mparams\u001b[49m\u001b[43m=\u001b[49m\u001b[43mparams\u001b[49m\u001b[43m,\u001b[49m\u001b[43m \u001b[49m\u001b[43mproxy\u001b[49m\u001b[43m=\u001b[49m\u001b[43mproxy\u001b[49m\u001b[43m,\u001b[49m\u001b[43m \u001b[49m\u001b[43mtimeout\u001b[49m\u001b[43m=\u001b[49m\u001b[43mtimeout\u001b[49m\u001b[43m)\u001b[49m\n",
      "\u001b[36mFile \u001b[39m\u001b[32m~\\AppData\\Local\\Programs\\Python\\Python313\\Lib\\site-packages\\yfinance\\utils.py:104\u001b[39m, in \u001b[36mlog_indent_decorator.<locals>.wrapper\u001b[39m\u001b[34m(*args, **kwargs)\u001b[39m\n\u001b[32m    101\u001b[39m logger.debug(\u001b[33mf\u001b[39m\u001b[33m'\u001b[39m\u001b[33mEntering \u001b[39m\u001b[38;5;132;01m{\u001b[39;00mfunc.\u001b[34m__name__\u001b[39m\u001b[38;5;132;01m}\u001b[39;00m\u001b[33m()\u001b[39m\u001b[33m'\u001b[39m)\n\u001b[32m    103\u001b[39m \u001b[38;5;28;01mwith\u001b[39;00m IndentationContext():\n\u001b[32m--> \u001b[39m\u001b[32m104\u001b[39m     result = \u001b[43mfunc\u001b[49m\u001b[43m(\u001b[49m\u001b[43m*\u001b[49m\u001b[43margs\u001b[49m\u001b[43m,\u001b[49m\u001b[43m \u001b[49m\u001b[43m*\u001b[49m\u001b[43m*\u001b[49m\u001b[43mkwargs\u001b[49m\u001b[43m)\u001b[49m\n\u001b[32m    106\u001b[39m logger.debug(\u001b[33mf\u001b[39m\u001b[33m'\u001b[39m\u001b[33mExiting \u001b[39m\u001b[38;5;132;01m{\u001b[39;00mfunc.\u001b[34m__name__\u001b[39m\u001b[38;5;132;01m}\u001b[39;00m\u001b[33m()\u001b[39m\u001b[33m'\u001b[39m)\n\u001b[32m    107\u001b[39m \u001b[38;5;28;01mreturn\u001b[39;00m result\n",
      "\u001b[36mFile \u001b[39m\u001b[32m~\\AppData\\Local\\Programs\\Python\\Python313\\Lib\\site-packages\\yfinance\\data.py:409\u001b[39m, in \u001b[36mYfData._make_request\u001b[39m\u001b[34m(self, url, request_method, user_agent_headers, body, params, proxy, timeout)\u001b[39m\n\u001b[32m    407\u001b[39m     \u001b[38;5;66;03m# Raise exception if rate limited\u001b[39;00m\n\u001b[32m    408\u001b[39m     \u001b[38;5;28;01mif\u001b[39;00m response.status_code == \u001b[32m429\u001b[39m:\n\u001b[32m--> \u001b[39m\u001b[32m409\u001b[39m         \u001b[38;5;28;01mraise\u001b[39;00m YFRateLimitError()\n\u001b[32m    411\u001b[39m \u001b[38;5;28;01mreturn\u001b[39;00m response\n",
      "\u001b[31mYFRateLimitError\u001b[39m: Too Many Requests. Rate limited. Try after a while."
     ]
    }
   ],
   "source": [
    "\n",
    "tickers = ['OKTA','INTC','RGTI','PLTR','HIMS','INOD']\n",
    "start_date = datetime.date(2025, 3, 7)  # Set this to your desired end date\n",
    "my_stocks_data = fetch_price_action_details(tickers, start_date, days=45)\n",
    "my_stocks_data"
   ]
  },
  {
   "cell_type": "code",
   "execution_count": 113,
   "id": "39299a48-7919-4014-a5e0-695d141a1791",
   "metadata": {},
   "outputs": [
    {
     "data": {
      "text/plain": [
       "Index(['Date', 'Ticker', 'Prior Close', 'Open Price', 'Low First Hour',\n",
       "       'High First Hour', 'Close First Hour', 'Low Till 1 PM',\n",
       "       'High Till 1 PM', 'Close 1 PM', 'Close Price',\n",
       "       'Price Movement (1PM - 4PM)', 'Next Day', 'Next Day Low',\n",
       "       'Next Day High', 'Next Day Close', 'Pct Increase Prior Close to Open',\n",
       "       'Strong Support', 'Pct Increase 1 PM to Close',\n",
       "       'Pct Increase Close to Next Day Close'],\n",
       "      dtype='object')"
      ]
     },
     "execution_count": 113,
     "metadata": {},
     "output_type": "execute_result"
    }
   ],
   "source": [
    "my_stocks_data.columns"
   ]
  },
  {
   "cell_type": "code",
   "execution_count": 114,
   "id": "cbca4cbb-9dbb-4777-9387-30f23ba7f971",
   "metadata": {},
   "outputs": [
    {
     "data": {
      "text/html": [
       "<div>\n",
       "<style scoped>\n",
       "    .dataframe tbody tr th:only-of-type {\n",
       "        vertical-align: middle;\n",
       "    }\n",
       "\n",
       "    .dataframe tbody tr th {\n",
       "        vertical-align: top;\n",
       "    }\n",
       "\n",
       "    .dataframe thead th {\n",
       "        text-align: right;\n",
       "    }\n",
       "</style>\n",
       "<table border=\"1\" class=\"dataframe\">\n",
       "  <thead>\n",
       "    <tr style=\"text-align: right;\">\n",
       "      <th></th>\n",
       "      <th>Date</th>\n",
       "      <th>Ticker</th>\n",
       "      <th>Prior Close</th>\n",
       "      <th>Open Price</th>\n",
       "      <th>Low First Hour</th>\n",
       "      <th>High First Hour</th>\n",
       "      <th>Close First Hour</th>\n",
       "      <th>Low Till 1 PM</th>\n",
       "      <th>High Till 1 PM</th>\n",
       "      <th>Close 1 PM</th>\n",
       "      <th>Close Price</th>\n",
       "      <th>Price Movement (1PM - 4PM)</th>\n",
       "      <th>Next Day</th>\n",
       "      <th>Next Day Low</th>\n",
       "      <th>Next Day High</th>\n",
       "      <th>Next Day Close</th>\n",
       "      <th>Pct Increase Prior Close to Open</th>\n",
       "      <th>Strong Support</th>\n",
       "      <th>Pct Increase 1 PM to Close</th>\n",
       "      <th>Pct Increase Close to Next Day Close</th>\n",
       "    </tr>\n",
       "  </thead>\n",
       "  <tbody>\n",
       "    <tr>\n",
       "      <th>6</th>\n",
       "      <td>2025-03-04</td>\n",
       "      <td>OKTA</td>\n",
       "      <td>87.160004</td>\n",
       "      <td>100.250000</td>\n",
       "      <td>97.599998</td>\n",
       "      <td>103.879898</td>\n",
       "      <td>102.849998</td>\n",
       "      <td>97.599998</td>\n",
       "      <td>101.629997</td>\n",
       "      <td>97.599998</td>\n",
       "      <td>108.349998</td>\n",
       "      <td>6.720001</td>\n",
       "      <td>2025-03-05</td>\n",
       "      <td>107.375999</td>\n",
       "      <td>116.750000</td>\n",
       "      <td>116.309998</td>\n",
       "      <td>15.018352</td>\n",
       "      <td>Y</td>\n",
       "      <td>3.654453</td>\n",
       "      <td>7.346561</td>\n",
       "    </tr>\n",
       "    <tr>\n",
       "      <th>9</th>\n",
       "      <td>2025-03-03</td>\n",
       "      <td>INTC</td>\n",
       "      <td>23.730000</td>\n",
       "      <td>25.010000</td>\n",
       "      <td>23.780001</td>\n",
       "      <td>25.035601</td>\n",
       "      <td>24.645000</td>\n",
       "      <td>23.780001</td>\n",
       "      <td>24.135000</td>\n",
       "      <td>23.780001</td>\n",
       "      <td>22.760000</td>\n",
       "      <td>-1.375000</td>\n",
       "      <td>2025-03-04</td>\n",
       "      <td>20.760000</td>\n",
       "      <td>22.629999</td>\n",
       "      <td>21.330000</td>\n",
       "      <td>5.394019</td>\n",
       "      <td>Y</td>\n",
       "      <td>-9.089458</td>\n",
       "      <td>-6.282954</td>\n",
       "    </tr>\n",
       "    <tr>\n",
       "      <th>27</th>\n",
       "      <td>2025-02-18</td>\n",
       "      <td>INTC</td>\n",
       "      <td>23.600000</td>\n",
       "      <td>24.605000</td>\n",
       "      <td>24.490999</td>\n",
       "      <td>26.240000</td>\n",
       "      <td>26.089899</td>\n",
       "      <td>24.490999</td>\n",
       "      <td>26.030001</td>\n",
       "      <td>24.490999</td>\n",
       "      <td>27.430000</td>\n",
       "      <td>1.400000</td>\n",
       "      <td>2025-02-19</td>\n",
       "      <td>25.459999</td>\n",
       "      <td>26.330000</td>\n",
       "      <td>25.719999</td>\n",
       "      <td>4.258471</td>\n",
       "      <td>Y</td>\n",
       "      <td>4.495239</td>\n",
       "      <td>-6.234054</td>\n",
       "    </tr>\n",
       "    <tr>\n",
       "      <th>33</th>\n",
       "      <td>2025-02-12</td>\n",
       "      <td>INTC</td>\n",
       "      <td>20.969999</td>\n",
       "      <td>21.950001</td>\n",
       "      <td>20.930000</td>\n",
       "      <td>22.100000</td>\n",
       "      <td>21.620001</td>\n",
       "      <td>20.930000</td>\n",
       "      <td>21.965000</td>\n",
       "      <td>20.930000</td>\n",
       "      <td>22.490000</td>\n",
       "      <td>0.525000</td>\n",
       "      <td>2025-02-13</td>\n",
       "      <td>22.790001</td>\n",
       "      <td>24.830000</td>\n",
       "      <td>24.129999</td>\n",
       "      <td>4.673350</td>\n",
       "      <td>Y</td>\n",
       "      <td>1.764703</td>\n",
       "      <td>7.292127</td>\n",
       "    </tr>\n",
       "  </tbody>\n",
       "</table>\n",
       "</div>"
      ],
      "text/plain": [
       "          Date Ticker  Prior Close  Open Price  Low First Hour  \\\n",
       "6   2025-03-04   OKTA    87.160004  100.250000       97.599998   \n",
       "9   2025-03-03   INTC    23.730000   25.010000       23.780001   \n",
       "27  2025-02-18   INTC    23.600000   24.605000       24.490999   \n",
       "33  2025-02-12   INTC    20.969999   21.950001       20.930000   \n",
       "\n",
       "    High First Hour  Close First Hour  Low Till 1 PM  High Till 1 PM  \\\n",
       "6        103.879898        102.849998      97.599998      101.629997   \n",
       "9         25.035601         24.645000      23.780001       24.135000   \n",
       "27        26.240000         26.089899      24.490999       26.030001   \n",
       "33        22.100000         21.620001      20.930000       21.965000   \n",
       "\n",
       "    Close 1 PM  Close Price  Price Movement (1PM - 4PM)    Next Day  \\\n",
       "6    97.599998   108.349998                    6.720001  2025-03-05   \n",
       "9    23.780001    22.760000                   -1.375000  2025-03-04   \n",
       "27   24.490999    27.430000                    1.400000  2025-02-19   \n",
       "33   20.930000    22.490000                    0.525000  2025-02-13   \n",
       "\n",
       "    Next Day Low  Next Day High  Next Day Close  \\\n",
       "6     107.375999     116.750000      116.309998   \n",
       "9      20.760000      22.629999       21.330000   \n",
       "27     25.459999      26.330000       25.719999   \n",
       "33     22.790001      24.830000       24.129999   \n",
       "\n",
       "    Pct Increase Prior Close to Open Strong Support  \\\n",
       "6                          15.018352              Y   \n",
       "9                           5.394019              Y   \n",
       "27                          4.258471              Y   \n",
       "33                          4.673350              Y   \n",
       "\n",
       "    Pct Increase 1 PM to Close  Pct Increase Close to Next Day Close  \n",
       "6                     3.654453                              7.346561  \n",
       "9                    -9.089458                             -6.282954  \n",
       "27                    4.495239                             -6.234054  \n",
       "33                    1.764703                              7.292127  "
      ]
     },
     "execution_count": 114,
     "metadata": {},
     "output_type": "execute_result"
    }
   ],
   "source": [
    "my_stocks_data[(my_stocks_data['Pct Increase Prior Close to Open'] >= 4) & (my_stocks_data['Strong Support'] == 'Y')]"
   ]
  },
  {
   "cell_type": "markdown",
   "id": "7666e0bd-5c8c-43f7-835d-f0aca4399ff3",
   "metadata": {},
   "source": [
    "# Perfecto!!! Bingo!!! Got exactly what I wanted"
   ]
  },
  {
   "cell_type": "markdown",
   "id": "4918b7b9-9456-4194-859e-7ec306ababa5",
   "metadata": {},
   "source": [
    "# Now, let me extend this to all tickers in S&P and QQQ Indexes"
   ]
  },
  {
   "cell_type": "code",
   "execution_count": 104,
   "id": "871c2a4d-3b3d-4a26-8d5b-fc5e3b32e621",
   "metadata": {},
   "outputs": [],
   "source": [
    "def get_sp500_tickers():\n",
    "    url = \"https://en.wikipedia.org/wiki/List_of_S%26P_500_companies\"\n",
    "    try:\n",
    "        table = pd.read_html(url)[0]  # Extract first table from Wikipedia page\n",
    "        tickers = table['Symbol'].str.replace('.', '-', regex=False).tolist()\n",
    "        return tickers\n",
    "    except Exception as e:\n",
    "        print(f\"Error fetching S&P 500 tickers: {e}\")\n",
    "        return []"
   ]
  },
  {
   "cell_type": "code",
   "execution_count": 107,
   "id": "f14fa6d7-81ff-4609-9672-8470107ac0ca",
   "metadata": {},
   "outputs": [
    {
     "ename": "YFRateLimitError",
     "evalue": "Too Many Requests. Rate limited. Try after a while.",
     "output_type": "error",
     "traceback": [
      "\u001b[31m---------------------------------------------------------------------------\u001b[39m",
      "\u001b[31mYFRateLimitError\u001b[39m                          Traceback (most recent call last)",
      "\u001b[36mCell\u001b[39m\u001b[36m \u001b[39m\u001b[32mIn[107]\u001b[39m\u001b[32m, line 3\u001b[39m\n\u001b[32m      1\u001b[39m tickers = get_sp500_tickers()\n\u001b[32m      2\u001b[39m start_date = datetime.date(\u001b[32m2025\u001b[39m, \u001b[32m3\u001b[39m, \u001b[32m7\u001b[39m)  \u001b[38;5;66;03m# Set this to your desired end date\u001b[39;00m\n\u001b[32m----> \u001b[39m\u001b[32m3\u001b[39m my_stocks_data = \u001b[43mfetch_price_action_details\u001b[49m\u001b[43m(\u001b[49m\u001b[43mtickers\u001b[49m\u001b[43m,\u001b[49m\u001b[43m \u001b[49m\u001b[43mstart_date\u001b[49m\u001b[43m,\u001b[49m\u001b[43m \u001b[49m\u001b[43mdays\u001b[49m\u001b[43m=\u001b[49m\u001b[32;43m30\u001b[39;49m\u001b[43m)\u001b[49m\n\u001b[32m      4\u001b[39m my_stocks_data.head(\u001b[32m5\u001b[39m)\n",
      "\u001b[36mCell\u001b[39m\u001b[36m \u001b[39m\u001b[32mIn[61]\u001b[39m\u001b[32m, line 6\u001b[39m, in \u001b[36mfetch_price_action_details\u001b[39m\u001b[34m(tickers, start_date, days)\u001b[39m\n\u001b[32m      4\u001b[39m date = start_date - datetime.timedelta(days=i)\n\u001b[32m      5\u001b[39m \u001b[38;5;28;01mfor\u001b[39;00m ticker \u001b[38;5;129;01min\u001b[39;00m tickers:\n\u001b[32m----> \u001b[39m\u001b[32m6\u001b[39m     data = \u001b[43mget_stock_details\u001b[49m\u001b[43m(\u001b[49m\u001b[43mticker\u001b[49m\u001b[43m,\u001b[49m\u001b[43m \u001b[49m\u001b[43mdate\u001b[49m\u001b[43m)\u001b[49m\n\u001b[32m      7\u001b[39m     \u001b[38;5;28;01mif\u001b[39;00m data:\n\u001b[32m      8\u001b[39m         results.append(data)\n",
      "\u001b[36mCell\u001b[39m\u001b[36m \u001b[39m\u001b[32mIn[66]\u001b[39m\u001b[32m, line 2\u001b[39m, in \u001b[36mget_stock_details\u001b[39m\u001b[34m(ticker, date)\u001b[39m\n\u001b[32m      1\u001b[39m \u001b[38;5;28;01mdef\u001b[39;00m\u001b[38;5;250m \u001b[39m\u001b[34mget_stock_details\u001b[39m(ticker, date):\n\u001b[32m----> \u001b[39m\u001b[32m2\u001b[39m     hist, daily_hist = \u001b[43mget_stock_data\u001b[49m\u001b[43m(\u001b[49m\u001b[43mticker\u001b[49m\u001b[43m,\u001b[49m\u001b[43m \u001b[49m\u001b[43mdate\u001b[49m\u001b[43m)\u001b[49m\n\u001b[32m      4\u001b[39m     \u001b[38;5;28;01mif\u001b[39;00m date.strftime(\u001b[33m'\u001b[39m\u001b[33m%\u001b[39m\u001b[33mY-\u001b[39m\u001b[33m%\u001b[39m\u001b[33mm-\u001b[39m\u001b[38;5;132;01m%d\u001b[39;00m\u001b[33m'\u001b[39m) \u001b[38;5;129;01mnot\u001b[39;00m \u001b[38;5;129;01min\u001b[39;00m daily_hist.index.strftime(\u001b[33m'\u001b[39m\u001b[33m%\u001b[39m\u001b[33mY-\u001b[39m\u001b[33m%\u001b[39m\u001b[33mm-\u001b[39m\u001b[38;5;132;01m%d\u001b[39;00m\u001b[33m'\u001b[39m):\n\u001b[32m      5\u001b[39m         \u001b[38;5;28;01mreturn\u001b[39;00m \u001b[38;5;28;01mNone\u001b[39;00m\n",
      "\u001b[36mCell\u001b[39m\u001b[36m \u001b[39m\u001b[32mIn[79]\u001b[39m\u001b[32m, line 7\u001b[39m, in \u001b[36mget_stock_data\u001b[39m\u001b[34m(ticker, date)\u001b[39m\n\u001b[32m      4\u001b[39m end_date = (date + datetime.timedelta(days=\u001b[32m7\u001b[39m)).strftime(\u001b[33m'\u001b[39m\u001b[33m%\u001b[39m\u001b[33mY-\u001b[39m\u001b[33m%\u001b[39m\u001b[33mm-\u001b[39m\u001b[38;5;132;01m%d\u001b[39;00m\u001b[33m'\u001b[39m)\n\u001b[32m      6\u001b[39m hist = stock.history(start=start_date, end=end_date, interval=\u001b[33m'\u001b[39m\u001b[33m30m\u001b[39m\u001b[33m'\u001b[39m)\n\u001b[32m----> \u001b[39m\u001b[32m7\u001b[39m daily_hist = \u001b[43mstock\u001b[49m\u001b[43m.\u001b[49m\u001b[43mhistory\u001b[49m\u001b[43m(\u001b[49m\u001b[43mstart\u001b[49m\u001b[43m=\u001b[49m\u001b[43mstart_date\u001b[49m\u001b[43m,\u001b[49m\u001b[43m \u001b[49m\u001b[43mend\u001b[49m\u001b[43m=\u001b[49m\u001b[43mend_date\u001b[49m\u001b[43m)\u001b[49m\n\u001b[32m      9\u001b[39m \u001b[38;5;28;01mreturn\u001b[39;00m hist, daily_hist\n",
      "\u001b[36mFile \u001b[39m\u001b[32m~\\AppData\\Local\\Programs\\Python\\Python313\\Lib\\site-packages\\yfinance\\utils.py:104\u001b[39m, in \u001b[36mlog_indent_decorator.<locals>.wrapper\u001b[39m\u001b[34m(*args, **kwargs)\u001b[39m\n\u001b[32m    101\u001b[39m logger.debug(\u001b[33mf\u001b[39m\u001b[33m'\u001b[39m\u001b[33mEntering \u001b[39m\u001b[38;5;132;01m{\u001b[39;00mfunc.\u001b[34m__name__\u001b[39m\u001b[38;5;132;01m}\u001b[39;00m\u001b[33m()\u001b[39m\u001b[33m'\u001b[39m)\n\u001b[32m    103\u001b[39m \u001b[38;5;28;01mwith\u001b[39;00m IndentationContext():\n\u001b[32m--> \u001b[39m\u001b[32m104\u001b[39m     result = \u001b[43mfunc\u001b[49m\u001b[43m(\u001b[49m\u001b[43m*\u001b[49m\u001b[43margs\u001b[49m\u001b[43m,\u001b[49m\u001b[43m \u001b[49m\u001b[43m*\u001b[49m\u001b[43m*\u001b[49m\u001b[43mkwargs\u001b[49m\u001b[43m)\u001b[49m\n\u001b[32m    106\u001b[39m logger.debug(\u001b[33mf\u001b[39m\u001b[33m'\u001b[39m\u001b[33mExiting \u001b[39m\u001b[38;5;132;01m{\u001b[39;00mfunc.\u001b[34m__name__\u001b[39m\u001b[38;5;132;01m}\u001b[39;00m\u001b[33m()\u001b[39m\u001b[33m'\u001b[39m)\n\u001b[32m    107\u001b[39m \u001b[38;5;28;01mreturn\u001b[39;00m result\n",
      "\u001b[36mFile \u001b[39m\u001b[32m~\\AppData\\Local\\Programs\\Python\\Python313\\Lib\\site-packages\\yfinance\\base.py:80\u001b[39m, in \u001b[36mTickerBase.history\u001b[39m\u001b[34m(self, *args, **kwargs)\u001b[39m\n\u001b[32m     78\u001b[39m \u001b[38;5;129m@utils\u001b[39m.log_indent_decorator\n\u001b[32m     79\u001b[39m \u001b[38;5;28;01mdef\u001b[39;00m\u001b[38;5;250m \u001b[39m\u001b[34mhistory\u001b[39m(\u001b[38;5;28mself\u001b[39m, *args, **kwargs) -> pd.DataFrame:\n\u001b[32m---> \u001b[39m\u001b[32m80\u001b[39m     \u001b[38;5;28;01mreturn\u001b[39;00m \u001b[38;5;28;43mself\u001b[39;49m\u001b[43m.\u001b[49m\u001b[43m_lazy_load_price_history\u001b[49m\u001b[43m(\u001b[49m\u001b[43m)\u001b[49m\u001b[43m.\u001b[49m\u001b[43mhistory\u001b[49m\u001b[43m(\u001b[49m\u001b[43m*\u001b[49m\u001b[43margs\u001b[49m\u001b[43m,\u001b[49m\u001b[43m \u001b[49m\u001b[43m*\u001b[49m\u001b[43m*\u001b[49m\u001b[43mkwargs\u001b[49m\u001b[43m)\u001b[49m\n",
      "\u001b[36mFile \u001b[39m\u001b[32m~\\AppData\\Local\\Programs\\Python\\Python313\\Lib\\site-packages\\yfinance\\utils.py:104\u001b[39m, in \u001b[36mlog_indent_decorator.<locals>.wrapper\u001b[39m\u001b[34m(*args, **kwargs)\u001b[39m\n\u001b[32m    101\u001b[39m logger.debug(\u001b[33mf\u001b[39m\u001b[33m'\u001b[39m\u001b[33mEntering \u001b[39m\u001b[38;5;132;01m{\u001b[39;00mfunc.\u001b[34m__name__\u001b[39m\u001b[38;5;132;01m}\u001b[39;00m\u001b[33m()\u001b[39m\u001b[33m'\u001b[39m)\n\u001b[32m    103\u001b[39m \u001b[38;5;28;01mwith\u001b[39;00m IndentationContext():\n\u001b[32m--> \u001b[39m\u001b[32m104\u001b[39m     result = \u001b[43mfunc\u001b[49m\u001b[43m(\u001b[49m\u001b[43m*\u001b[49m\u001b[43margs\u001b[49m\u001b[43m,\u001b[49m\u001b[43m \u001b[49m\u001b[43m*\u001b[49m\u001b[43m*\u001b[49m\u001b[43mkwargs\u001b[49m\u001b[43m)\u001b[49m\n\u001b[32m    106\u001b[39m logger.debug(\u001b[33mf\u001b[39m\u001b[33m'\u001b[39m\u001b[33mExiting \u001b[39m\u001b[38;5;132;01m{\u001b[39;00mfunc.\u001b[34m__name__\u001b[39m\u001b[38;5;132;01m}\u001b[39;00m\u001b[33m()\u001b[39m\u001b[33m'\u001b[39m)\n\u001b[32m    107\u001b[39m \u001b[38;5;28;01mreturn\u001b[39;00m result\n",
      "\u001b[36mFile \u001b[39m\u001b[32m~\\AppData\\Local\\Programs\\Python\\Python313\\Lib\\site-packages\\yfinance\\scrapers\\history.py:175\u001b[39m, in \u001b[36mPriceHistory.history\u001b[39m\u001b[34m(self, period, interval, start, end, prepost, actions, auto_adjust, back_adjust, repair, keepna, proxy, rounding, timeout, raise_errors)\u001b[39m\n\u001b[32m    173\u001b[39m         get_fn = \u001b[38;5;28mself\u001b[39m._data.cache_get\n\u001b[32m    174\u001b[39m \u001b[38;5;28;01mtry\u001b[39;00m:\n\u001b[32m--> \u001b[39m\u001b[32m175\u001b[39m     data = \u001b[43mget_fn\u001b[49m\u001b[43m(\u001b[49m\n\u001b[32m    176\u001b[39m \u001b[43m        \u001b[49m\u001b[43murl\u001b[49m\u001b[43m=\u001b[49m\u001b[43murl\u001b[49m\u001b[43m,\u001b[49m\n\u001b[32m    177\u001b[39m \u001b[43m        \u001b[49m\u001b[43mparams\u001b[49m\u001b[43m=\u001b[49m\u001b[43mparams\u001b[49m\u001b[43m,\u001b[49m\n\u001b[32m    178\u001b[39m \u001b[43m        \u001b[49m\u001b[43mproxy\u001b[49m\u001b[43m=\u001b[49m\u001b[43mproxy\u001b[49m\u001b[43m,\u001b[49m\n\u001b[32m    179\u001b[39m \u001b[43m        \u001b[49m\u001b[43mtimeout\u001b[49m\u001b[43m=\u001b[49m\u001b[43mtimeout\u001b[49m\n\u001b[32m    180\u001b[39m \u001b[43m    \u001b[49m\u001b[43m)\u001b[49m\n\u001b[32m    181\u001b[39m     \u001b[38;5;28;01mif\u001b[39;00m \u001b[33m\"\u001b[39m\u001b[33mWill be right back\u001b[39m\u001b[33m\"\u001b[39m \u001b[38;5;129;01min\u001b[39;00m data.text \u001b[38;5;129;01mor\u001b[39;00m data \u001b[38;5;129;01mis\u001b[39;00m \u001b[38;5;28;01mNone\u001b[39;00m:\n\u001b[32m    182\u001b[39m         \u001b[38;5;28;01mraise\u001b[39;00m \u001b[38;5;167;01mRuntimeError\u001b[39;00m(\u001b[33m\"\u001b[39m\u001b[33m*** YAHOO! FINANCE IS CURRENTLY DOWN! ***\u001b[39m\u001b[38;5;130;01m\\n\u001b[39;00m\u001b[33m\"\u001b[39m\n\u001b[32m    183\u001b[39m                            \u001b[33m\"\u001b[39m\u001b[33mOur engineers are working quickly to resolve \u001b[39m\u001b[33m\"\u001b[39m\n\u001b[32m    184\u001b[39m                            \u001b[33m\"\u001b[39m\u001b[33mthe issue. Thank you for your patience.\u001b[39m\u001b[33m\"\u001b[39m)\n",
      "\u001b[36mFile \u001b[39m\u001b[32m~\\AppData\\Local\\Programs\\Python\\Python313\\Lib\\site-packages\\yfinance\\utils.py:104\u001b[39m, in \u001b[36mlog_indent_decorator.<locals>.wrapper\u001b[39m\u001b[34m(*args, **kwargs)\u001b[39m\n\u001b[32m    101\u001b[39m logger.debug(\u001b[33mf\u001b[39m\u001b[33m'\u001b[39m\u001b[33mEntering \u001b[39m\u001b[38;5;132;01m{\u001b[39;00mfunc.\u001b[34m__name__\u001b[39m\u001b[38;5;132;01m}\u001b[39;00m\u001b[33m()\u001b[39m\u001b[33m'\u001b[39m)\n\u001b[32m    103\u001b[39m \u001b[38;5;28;01mwith\u001b[39;00m IndentationContext():\n\u001b[32m--> \u001b[39m\u001b[32m104\u001b[39m     result = \u001b[43mfunc\u001b[49m\u001b[43m(\u001b[49m\u001b[43m*\u001b[49m\u001b[43margs\u001b[49m\u001b[43m,\u001b[49m\u001b[43m \u001b[49m\u001b[43m*\u001b[49m\u001b[43m*\u001b[49m\u001b[43mkwargs\u001b[49m\u001b[43m)\u001b[49m\n\u001b[32m    106\u001b[39m logger.debug(\u001b[33mf\u001b[39m\u001b[33m'\u001b[39m\u001b[33mExiting \u001b[39m\u001b[38;5;132;01m{\u001b[39;00mfunc.\u001b[34m__name__\u001b[39m\u001b[38;5;132;01m}\u001b[39;00m\u001b[33m()\u001b[39m\u001b[33m'\u001b[39m)\n\u001b[32m    107\u001b[39m \u001b[38;5;28;01mreturn\u001b[39;00m result\n",
      "\u001b[36mFile \u001b[39m\u001b[32m~\\AppData\\Local\\Programs\\Python\\Python313\\Lib\\site-packages\\yfinance\\data.py:347\u001b[39m, in \u001b[36mYfData.get\u001b[39m\u001b[34m(self, url, user_agent_headers, params, proxy, timeout)\u001b[39m\n\u001b[32m    345\u001b[39m \u001b[38;5;129m@utils\u001b[39m.log_indent_decorator\n\u001b[32m    346\u001b[39m \u001b[38;5;28;01mdef\u001b[39;00m\u001b[38;5;250m \u001b[39m\u001b[34mget\u001b[39m(\u001b[38;5;28mself\u001b[39m, url, user_agent_headers=\u001b[38;5;28;01mNone\u001b[39;00m, params=\u001b[38;5;28;01mNone\u001b[39;00m, proxy=\u001b[38;5;28;01mNone\u001b[39;00m, timeout=\u001b[32m30\u001b[39m):\n\u001b[32m--> \u001b[39m\u001b[32m347\u001b[39m     \u001b[38;5;28;01mreturn\u001b[39;00m \u001b[38;5;28;43mself\u001b[39;49m\u001b[43m.\u001b[49m\u001b[43m_make_request\u001b[49m\u001b[43m(\u001b[49m\u001b[43murl\u001b[49m\u001b[43m,\u001b[49m\u001b[43m \u001b[49m\u001b[43mrequest_method\u001b[49m\u001b[43m \u001b[49m\u001b[43m=\u001b[49m\u001b[43m \u001b[49m\u001b[38;5;28;43mself\u001b[39;49m\u001b[43m.\u001b[49m\u001b[43m_session\u001b[49m\u001b[43m.\u001b[49m\u001b[43mget\u001b[49m\u001b[43m,\u001b[49m\u001b[43m \u001b[49m\u001b[43muser_agent_headers\u001b[49m\u001b[43m=\u001b[49m\u001b[43muser_agent_headers\u001b[49m\u001b[43m,\u001b[49m\u001b[43m \u001b[49m\u001b[43mparams\u001b[49m\u001b[43m=\u001b[49m\u001b[43mparams\u001b[49m\u001b[43m,\u001b[49m\u001b[43m \u001b[49m\u001b[43mproxy\u001b[49m\u001b[43m=\u001b[49m\u001b[43mproxy\u001b[49m\u001b[43m,\u001b[49m\u001b[43m \u001b[49m\u001b[43mtimeout\u001b[49m\u001b[43m=\u001b[49m\u001b[43mtimeout\u001b[49m\u001b[43m)\u001b[49m\n",
      "\u001b[36mFile \u001b[39m\u001b[32m~\\AppData\\Local\\Programs\\Python\\Python313\\Lib\\site-packages\\yfinance\\utils.py:104\u001b[39m, in \u001b[36mlog_indent_decorator.<locals>.wrapper\u001b[39m\u001b[34m(*args, **kwargs)\u001b[39m\n\u001b[32m    101\u001b[39m logger.debug(\u001b[33mf\u001b[39m\u001b[33m'\u001b[39m\u001b[33mEntering \u001b[39m\u001b[38;5;132;01m{\u001b[39;00mfunc.\u001b[34m__name__\u001b[39m\u001b[38;5;132;01m}\u001b[39;00m\u001b[33m()\u001b[39m\u001b[33m'\u001b[39m)\n\u001b[32m    103\u001b[39m \u001b[38;5;28;01mwith\u001b[39;00m IndentationContext():\n\u001b[32m--> \u001b[39m\u001b[32m104\u001b[39m     result = \u001b[43mfunc\u001b[49m\u001b[43m(\u001b[49m\u001b[43m*\u001b[49m\u001b[43margs\u001b[49m\u001b[43m,\u001b[49m\u001b[43m \u001b[49m\u001b[43m*\u001b[49m\u001b[43m*\u001b[49m\u001b[43mkwargs\u001b[49m\u001b[43m)\u001b[49m\n\u001b[32m    106\u001b[39m logger.debug(\u001b[33mf\u001b[39m\u001b[33m'\u001b[39m\u001b[33mExiting \u001b[39m\u001b[38;5;132;01m{\u001b[39;00mfunc.\u001b[34m__name__\u001b[39m\u001b[38;5;132;01m}\u001b[39;00m\u001b[33m()\u001b[39m\u001b[33m'\u001b[39m)\n\u001b[32m    107\u001b[39m \u001b[38;5;28;01mreturn\u001b[39;00m result\n",
      "\u001b[36mFile \u001b[39m\u001b[32m~\\AppData\\Local\\Programs\\Python\\Python313\\Lib\\site-packages\\yfinance\\data.py:409\u001b[39m, in \u001b[36mYfData._make_request\u001b[39m\u001b[34m(self, url, request_method, user_agent_headers, body, params, proxy, timeout)\u001b[39m\n\u001b[32m    407\u001b[39m     \u001b[38;5;66;03m# Raise exception if rate limited\u001b[39;00m\n\u001b[32m    408\u001b[39m     \u001b[38;5;28;01mif\u001b[39;00m response.status_code == \u001b[32m429\u001b[39m:\n\u001b[32m--> \u001b[39m\u001b[32m409\u001b[39m         \u001b[38;5;28;01mraise\u001b[39;00m YFRateLimitError()\n\u001b[32m    411\u001b[39m \u001b[38;5;28;01mreturn\u001b[39;00m response\n",
      "\u001b[31mYFRateLimitError\u001b[39m: Too Many Requests. Rate limited. Try after a while."
     ]
    }
   ],
   "source": [
    "tickers = get_sp500_tickers()\n",
    "start_date = datetime.date(2025, 3, 7)  # Set this to your desired end date\n",
    "my_stocks_data = fetch_price_action_details(tickers, start_date, days=30)\n",
    "my_stocks_data.head(5)"
   ]
  },
  {
   "cell_type": "code",
   "execution_count": null,
   "id": "a74e6f85-3e2f-4bd7-9960-cdeb11dac993",
   "metadata": {},
   "outputs": [],
   "source": [
    "my_stocks_data[(my_stocks_data['Pct Increase Prior Close to Open'] >= 4) & (my_stocks_data['Strong Support'] == 'Y')]"
   ]
  }
 ],
 "metadata": {
  "kernelspec": {
   "display_name": "Python 3 (ipykernel)",
   "language": "python",
   "name": "python3"
  },
  "language_info": {
   "codemirror_mode": {
    "name": "ipython",
    "version": 3
   },
   "file_extension": ".py",
   "mimetype": "text/x-python",
   "name": "python",
   "nbconvert_exporter": "python",
   "pygments_lexer": "ipython3",
   "version": "3.13.2"
  }
 },
 "nbformat": 4,
 "nbformat_minor": 5
}
