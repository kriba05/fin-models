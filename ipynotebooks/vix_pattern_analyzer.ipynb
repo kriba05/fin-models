{
 "cells": [
  {
   "cell_type": "code",
   "execution_count": null,
   "metadata": {},
   "outputs": [],
   "source": [
    "import pandas as pd\n",
    "import os\n",
    "import datetime\n",
    "from pandas.tseries.holiday import USFederalHolidayCalendar\n",
    "from pandas.tseries.offsets import CustomBusinessDay\n",
    "import yfinance as yf"
   ]
  },
  {
   "cell_type": "code",
   "execution_count": null,
   "metadata": {},
   "outputs": [],
   "source": [
    "symbol = \"^VIX\"\n",
    "data_dir = '../data/%s' % symbol\n",
    "data_file = '%s_history.csv' %symbol;\n",
    "file_path = os.path.join(data_dir, data_file)"
   ]
  },
  {
   "cell_type": "code",
   "execution_count": null,
   "metadata": {},
   "outputs": [],
   "source": [
    "data = pd.read_csv(file_path)"
   ]
  },
  {
   "cell_type": "code",
   "execution_count": null,
   "metadata": {},
   "outputs": [],
   "source": [
    "data.head(5)"
   ]
  },
  {
   "cell_type": "code",
   "execution_count": null,
   "metadata": {},
   "outputs": [],
   "source": [
    "price_pt_1 = 40\n",
    "price_pt_2 = 20\n",
    "fromDate = '2001-01-01'\n",
    "toDate = '2021-03-01'\n",
    "direction = 'UPTREND' if price_pt_1 < price_pt_2 else 'DOWNTREND'"
   ]
  },
  {
   "cell_type": "code",
   "execution_count": null,
   "metadata": {},
   "outputs": [],
   "source": [
    "analysis_data_window = data[(data['Date'] >= fromDate) & (data['Date'] <= toDate)]"
   ]
  },
  {
   "cell_type": "code",
   "execution_count": null,
   "metadata": {},
   "outputs": [],
   "source": [
    "analysis_data_window.head(5)"
   ]
  },
  {
   "cell_type": "code",
   "execution_count": null,
   "metadata": {},
   "outputs": [],
   "source": [
    "analysis_data_window.tail(5)"
   ]
  },
  {
   "cell_type": "code",
   "execution_count": null,
   "metadata": {},
   "outputs": [],
   "source": [
    "price_pt_1_all_occurences = analysis_data_window[analysis_data_window['High'] >= price_pt_1]"
   ]
  },
  {
   "cell_type": "code",
   "execution_count": null,
   "metadata": {},
   "outputs": [],
   "source": [
    "price_pt_1_all_occurences.head(5)"
   ]
  },
  {
   "cell_type": "code",
   "execution_count": null,
   "metadata": {},
   "outputs": [],
   "source": [
    "us_bd = CustomBusinessDay(calendar=USFederalHolidayCalendar())\n",
    "end_date_obj = datetime.datetime.strptime(toDate, '%Y-%m-%d')\n",
    "\n",
    "pricePt1Date = []\n",
    "pricePt2Date = []\n",
    "calendarDays = []\n",
    "businessDays = []\n",
    "pricePt1 = []\n",
    "pricePt2 = []\n",
    "\n",
    "while True:\n",
    "    price_pt_1_date = price_pt_1_all_occurences.iloc[0]['Date']\n",
    "    filtered_data_set = analysis_data_window[analysis_data_window['Date'] >= price_pt_1_date]\n",
    "    if direction == 'UPTREND':\n",
    "        price_pt_2_date = filtered_data_set[filtered_data_set['Close'] >= price_pt_2].iloc[0]['Date']\n",
    "    else:\n",
    "        price_pt_2_date = filtered_data_set[filtered_data_set['Close'] <= price_pt_2].iloc[0]['Date']\n",
    "    \n",
    "    price_pt_1_date_obj = datetime.datetime.strptime(price_pt_1_date, '%Y-%m-%d')\n",
    "    pricePt1DateObj.append(price_pt_1_date_obj);\n",
    "    price_pt_2_date_obj = datetime.datetime.strptime(price_pt_2_date, '%Y-%m-%d')\n",
    "    pricePt2DateObj.append(price_pt_2_date_obj);\n",
    "    \n",
    "    total_cal_days_for_price_change =  (price_pt_2_date_obj - price_pt_1_date_obj).days\n",
    "    total_business_days_for_price_change = len(pd.date_range(start = price_pt_1_date, end = price_pt_2_date, freq = us_bd))\n",
    "    \n",
    "    pricePt1Date.append(price_pt_1_date)\n",
    "    pricePt2Date.append(price_pt_2_date)\n",
    "    calendarDays.append(total_cal_days_for_price_change)\n",
    "    businessDays.append(total_business_days_for_price_change)\n",
    "    pricePt1.append(price_pt_1)\n",
    "    pricePt2.append(price_pt_2)\n",
    "    \n",
    "    price_pt_1_all_occurences = price_pt_1_all_occurences[price_pt_1_all_occurences['Date'] > price_pt_2_date]\n",
    "    \n",
    "    if len(price_pt_1_all_occurences.index) == 0 :\n",
    "        break\n",
    "       \n",
    "        \n",
    "out_data = {'Price_Pt_1': pricePt1,\n",
    "        'Price_Pt_1_Date': pricePt1Date, \n",
    "        'Price_Pt_2': pricePt2,\n",
    "        'Price_Pt_2_Date': pricePt2Date,\n",
    "        'Calendar Days': calendarDays,\n",
    "        'Business Days': businessDays}\n",
    "output_df = pd.DataFrame(out_data, columns= ['Price_Pt_1', 'Price_Pt_1_Date', 'Price_Pt_2', 'Price_Pt_2_Date', 'Calendar Days', 'Business Days'])"
   ]
  },
  {
   "cell_type": "code",
   "execution_count": null,
   "metadata": {},
   "outputs": [],
   "source": [
    "output_df.head(25)"
   ]
  },
  {
   "cell_type": "code",
   "execution_count": null,
   "metadata": {},
   "outputs": [],
   "source": [
    "pricePt1Date"
   ]
  },
  {
   "cell_type": "code",
   "execution_count": null,
   "metadata": {},
   "outputs": [],
   "source": [
    "dates_of_interest = pd.Series(pricePt1Date)\n",
    "dates_of_interest"
   ]
  },
  {
   "cell_type": "code",
   "execution_count": null,
   "metadata": {},
   "outputs": [],
   "source": [
    "dates_of_interest = dates_of_interest.apply(lambda x: (( datetime.datetime.strptime(x, '%Y-%m-%d') - datetime.timedelta(days=60)).strftime('%Y-%m-%d'))  )"
   ]
  },
  {
   "cell_type": "code",
   "execution_count": null,
   "metadata": {},
   "outputs": [],
   "source": [
    "dates_of_interest"
   ]
  },
  {
   "cell_type": "code",
   "execution_count": null,
   "metadata": {},
   "outputs": [],
   "source": [
    "pricePt2Date"
   ]
  },
  {
   "cell_type": "code",
   "execution_count": null,
   "metadata": {},
   "outputs": [],
   "source": [
    "all_data_df = pd.DataFrame([])\n",
    "for items in dates_of_interest.iteritems():\n",
    "    date_1 = items[1]\n",
    "    date_2 = pricePt2Date[items[0]]\n",
    "    data_of_interest = yf.download(tickers = '^VIX SPY VXX', start = date_1, end = date_2, group_by = 'ticker', auto_adjust  = True)\n",
    "    data_of_interest['Study_Item_Num'] = [(items[0]+1) for _ in range(len(data_of_interest))]\n",
    "    all_data_df = all_data_df.append(data_of_interest);"
   ]
  },
  {
   "cell_type": "code",
   "execution_count": null,
   "metadata": {},
   "outputs": [],
   "source": [
    "len(all_data_df.index)"
   ]
  },
  {
   "cell_type": "code",
   "execution_count": null,
   "metadata": {},
   "outputs": [],
   "source": [
    "all_data_df.head(1000)"
   ]
  },
  {
   "cell_type": "code",
   "execution_count": null,
   "metadata": {},
   "outputs": [],
   "source": [
    "output_dir = '../data/vix_analysis'\n",
    "if not os.path.exists(output_dir):\n",
    "    os.mkdir(output_dir);\n",
    "    \n",
    "output_file = 'data.xlsx';\n",
    "\n",
    "file_path = os.path.join(output_dir, output_file)\n",
    "\n",
    "all_data_df.to_excel(file_path)"
   ]
  },
  {
   "cell_type": "code",
   "execution_count": null,
   "metadata": {},
   "outputs": [],
   "source": []
  }
 ],
 "metadata": {
  "kernelspec": {
   "display_name": "Python 3",
   "language": "python",
   "name": "python3"
  },
  "language_info": {
   "codemirror_mode": {
    "name": "ipython",
    "version": 3
   },
   "file_extension": ".py",
   "mimetype": "text/x-python",
   "name": "python",
   "nbconvert_exporter": "python",
   "pygments_lexer": "ipython3",
   "version": "3.7.6"
  }
 },
 "nbformat": 4,
 "nbformat_minor": 4
}
